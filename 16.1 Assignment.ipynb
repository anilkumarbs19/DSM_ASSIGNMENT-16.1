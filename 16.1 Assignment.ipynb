{
 "cells": [
  {
   "cell_type": "code",
   "execution_count": 1,
   "metadata": {},
   "outputs": [
    {
     "name": "stdout",
     "output_type": "stream",
     "text": [
      "The standard deviation for rents is: 368\n"
     ]
    }
   ],
   "source": [
    "import math\n",
    "\n",
    "list_of_rents = [1550, 1700, 900, 850, 1000, 950]\n",
    "\n",
    "### SD formula = math.sqrt(sum(for i = 1 to n, (xi - mean) ** 2) / n - 1) ###\n",
    "\n",
    "std = math.sqrt(sum([(rent - (float(sum(list_of_rents)) / len(list_of_rents))) ** 2 for rent in list_of_rents]) / (len(list_of_rents) - 1))\n",
    "\n",
    "print(\"The standard deviation for rents is:\", format(std, '.0f'))"
   ]
  },
  {
   "cell_type": "code",
   "execution_count": null,
   "metadata": {
    "collapsed": true
   },
   "outputs": [],
   "source": []
  }
 ],
 "metadata": {
  "kernelspec": {
   "display_name": "Python 3",
   "language": "python",
   "name": "python3"
  },
  "language_info": {
   "codemirror_mode": {
    "name": "ipython",
    "version": 3
   },
   "file_extension": ".py",
   "mimetype": "text/x-python",
   "name": "python",
   "nbconvert_exporter": "python",
   "pygments_lexer": "ipython3",
   "version": "3.6.3"
  }
 },
 "nbformat": 4,
 "nbformat_minor": 2
}
